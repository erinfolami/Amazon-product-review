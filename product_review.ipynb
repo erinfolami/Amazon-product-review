{
 "cells": [
  {
   "cell_type": "markdown",
   "metadata": {
    "colab_type": "text",
    "id": "ojGAvN4Zj9RV"
   },
   "source": [
    "# Reading product review data\n"
   ]
  },
  {
   "cell_type": "code",
   "execution_count": 1,
   "metadata": {
    "colab": {
     "base_uri": "https://localhost:8080/",
     "height": 125
    },
    "colab_type": "code",
    "id": "hHIwQekzkSw3",
    "outputId": "6873efd1-f713-4ad9-9ab3-aa4d22108f5a"
   },
   "outputs": [],
   "source": [
    "# from google.colab import drive\n",
    "# drive.mount('/content/drive')\n",
    "\n",
    "import pandas as pd"
   ]
  },
  {
   "cell_type": "code",
   "execution_count": 2,
   "metadata": {
    "colab": {},
    "colab_type": "code",
    "id": "WHkPqxckkWVU"
   },
   "outputs": [],
   "source": [
    "# df = pd.read_csv(\"/content/drive/My Drive/amazon_baby.csv\")\n",
    "df = pd.read_csv(\"amazon_baby.csv\")"
   ]
  },
  {
   "cell_type": "code",
   "execution_count": 3,
   "metadata": {
    "colab": {},
    "colab_type": "code",
    "id": "09Tmdcy9OlJo"
   },
   "outputs": [],
   "source": [
    "#droping missing values\n",
    "df = df.dropna(axis=0)\n"
   ]
  },
  {
   "cell_type": "markdown",
   "metadata": {
    "colab_type": "text",
    "id": "Ueh_MHiroQ-Q"
   },
   "source": [
    "Most frequent items"
   ]
  },
  {
   "cell_type": "code",
   "execution_count": 4,
   "metadata": {
    "colab": {
     "base_uri": "https://localhost:8080/",
     "height": 230
    },
    "colab_type": "code",
    "id": "b2agDiIJkk3W",
    "outputId": "35d98477-2e8e-4b0a-fbef-f2ae7215ac0f"
   },
   "outputs": [
    {
     "name": "stdout",
     "output_type": "stream",
     "text": [
      "Vulli Sophie the Giraffe Teether                                            779\n",
      "Simple Wishes Hands-Free Breastpump Bra, Pink, XS-L                         560\n",
      "Infant Optics DXR-5 2.4 GHz Digital Video Baby Monitor with Night Vision    558\n",
      "Baby Einstein Take Along Tunes                                              545\n",
      "Cloud b Twilight Constellation Night Light, Turtle                          517\n",
      "                                                                           ... \n",
      "Uriage Cu-Zn+ Anti-Irritation Cream 40ml                                      1\n",
      "Ferris wheel musical box 1845                                                 1\n",
      "Lambs and Ivy Luv Bugs Lamp with Shade, Plum                                  1\n",
      "SpongeBob No-Spill Cup 9 oz ~ BPA FREE                                        1\n",
      "Munchkin Arm &amp; Hammer Baby Bottle Wash - 16 oz                            1\n",
      "Name: name, Length: 32315, dtype: int64\n"
     ]
    }
   ],
   "source": [
    "frq = df[\"name\"].value_counts()\n",
    "print(frq)"
   ]
  },
  {
   "cell_type": "markdown",
   "metadata": {
    "colab_type": "text",
    "id": "ImfdQ7swpwqJ"
   },
   "source": [
    "Exploring Vullie Sophie(item)"
   ]
  },
  {
   "cell_type": "code",
   "execution_count": 5,
   "metadata": {
    "colab": {
     "base_uri": "https://localhost:8080/",
     "height": 34
    },
    "colab_type": "code",
    "id": "TzI8tQkIptGv",
    "outputId": "bbb14557-6f97-4ccc-825d-b01b9901c7f1"
   },
   "outputs": [
    {
     "data": {
      "text/plain": [
       "779"
      ]
     },
     "execution_count": 5,
     "metadata": {},
     "output_type": "execute_result"
    }
   ],
   "source": [
    "giraffe_review = df[df[\"name\"]==\"Vulli Sophie the Giraffe Teether\"]\n",
    "len(giraffe_review)# 785 people reviewd the giraffe product\n"
   ]
  },
  {
   "cell_type": "markdown",
   "metadata": {
    "colab_type": "text",
    "id": "hnCkYUZA1haL"
   },
   "source": [
    "Exploring Vullie Sophie(item) Rating\n"
   ]
  },
  {
   "cell_type": "code",
   "execution_count": 6,
   "metadata": {
    "colab": {
     "base_uri": "https://localhost:8080/",
     "height": 123
    },
    "colab_type": "code",
    "id": "jjMRiCQV1f0q",
    "outputId": "ba002cf3-1c05-447e-c5fa-27ddf9db1d90"
   },
   "outputs": [
    {
     "name": "stdout",
     "output_type": "stream",
     "text": [
      "5    531\n",
      "4     93\n",
      "3     62\n",
      "1     56\n",
      "2     37\n",
      "Name: rating, dtype: int64\n"
     ]
    }
   ],
   "source": [
    "print(giraffe_review[\"rating\"].value_counts())"
   ]
  },
  {
   "cell_type": "markdown",
   "metadata": {
    "colab_type": "text",
    "id": "0LR2I89fFlqC"
   },
   "source": [
    "Exploring all users ratings"
   ]
  },
  {
   "cell_type": "code",
   "execution_count": 7,
   "metadata": {
    "colab": {
     "base_uri": "https://localhost:8080/",
     "height": 34
    },
    "colab_type": "code",
    "id": "-MYZRuAPFr2z",
    "outputId": "d4415822-697c-483b-ccf7-327fe5bcfdc3"
   },
   "outputs": [
    {
     "name": "stdout",
     "output_type": "stream",
     "text": [
      "[106265  33053  16705  15100  11261]\n"
     ]
    }
   ],
   "source": [
    "rating = df[\"rating\"].value_counts().unique()\n",
    "print(rating)\n"
   ]
  },
  {
   "cell_type": "markdown",
   "metadata": {
    "colab_type": "text",
    "id": "_JN9OavaO9tn"
   },
   "source": [
    "Creating a plot for all reviews"
   ]
  },
  {
   "cell_type": "code",
   "execution_count": 9,
   "metadata": {
    "colab": {
     "base_uri": "https://localhost:8080/",
     "height": 300
    },
    "colab_type": "code",
    "id": "aUPIwr8uPC4C",
    "outputId": "44108511-00b2-4ae7-cf60-37b1f59adef7"
   },
   "outputs": [
    {
     "data": {
      "text/plain": [
       "Text(0.5, 0, 'Ratings')"
      ]
     },
     "execution_count": 9,
     "metadata": {},
     "output_type": "execute_result"
    },
    {
     "data": {
      "image/png": "[encoded data removed]",
      "text/plain": [
       "<Figure size 432x288 with 1 Axes>"
      ]
     },
     "metadata": {},
     "output_type": "display_data"
    }
   ],
   "source": [
    "#Creating a plot for all reviews\n",
    "from matplotlib import pyplot  as plt\n",
    "%matplotlib inline\n",
    "plt.style.use('ggplot')\n",
    "df = df.sort_values([\"rating\"])\n",
    "rat_unique = df[\"rating\"].unique()\n",
    "rat_unique = rat_unique[::-1]\n",
    "height = rating\n",
    "plt.bar(rat_unique,height)\n",
    "plt.xlabel(\"Ratings\")\n",
    "\n"
   ]
  },
  {
   "cell_type": "markdown",
   "metadata": {
    "colab_type": "text",
    "id": "wEtmhUyFDsGC"
   },
   "source": [
    "Defining Positive/Negative Ratings\n",
    "\n",
    "\n",
    "\n"
   ]
  },
  {
   "cell_type": "code",
   "execution_count": 10,
   "metadata": {
    "colab": {
     "base_uri": "https://localhost:8080/",
     "height": 406
    },
    "colab_type": "code",
    "id": "pDa8IKrZ-DtP",
    "outputId": "c1d63946-a981-463e-9cae-a5a39489c93f"
   },
   "outputs": [
    {
     "data": {
      "text/html": [
       "<div>\n",
       "<style scoped>\n",
       "    .dataframe tbody tr th:only-of-type {\n",
       "        vertical-align: middle;\n",
       "    }\n",
       "\n",
       "    .dataframe tbody tr th {\n",
       "        vertical-align: top;\n",
       "    }\n",
       "\n",
       "    .dataframe thead th {\n",
       "        text-align: right;\n",
       "    }\n",
       "</style>\n",
       "<table border=\"1\" class=\"dataframe\">\n",
       "  <thead>\n",
       "    <tr style=\"text-align: right;\">\n",
       "      <th></th>\n",
       "      <th>name</th>\n",
       "      <th>review</th>\n",
       "      <th>rating</th>\n",
       "      <th>sentiment</th>\n",
       "    </tr>\n",
       "  </thead>\n",
       "  <tbody>\n",
       "    <tr>\n",
       "      <td>29756</td>\n",
       "      <td>Mommy\\'s Helper Toilet Seat Lid-Lok</td>\n",
       "      <td>Don\\'t waste your money. My ten month old had ...</td>\n",
       "      <td>1</td>\n",
       "      <td>0</td>\n",
       "    </tr>\n",
       "    <tr>\n",
       "      <td>2175</td>\n",
       "      <td>Philips Avent 3 Pack 9oz Bottles</td>\n",
       "      <td>My baby tried these bottles and you could hear...</td>\n",
       "      <td>1</td>\n",
       "      <td>0</td>\n",
       "    </tr>\n",
       "    <tr>\n",
       "      <td>114296</td>\n",
       "      <td>Digital Connect Digital Baby Monitor - 1 Paren...</td>\n",
       "      <td>This is by far the worst baby monitor we have ...</td>\n",
       "      <td>1</td>\n",
       "      <td>0</td>\n",
       "    </tr>\n",
       "    <tr>\n",
       "      <td>117735</td>\n",
       "      <td>Tommee Tippee Closer to Nature Newborn Starter...</td>\n",
       "      <td>We have 6 month old twins and have used Tommee...</td>\n",
       "      <td>1</td>\n",
       "      <td>0</td>\n",
       "    </tr>\n",
       "    <tr>\n",
       "      <td>165396</td>\n",
       "      <td>Samsung SEW-3036WN Wireless Video Baby Monitor...</td>\n",
       "      <td>Receiver wouldn\\'t work 10 feet from camera in...</td>\n",
       "      <td>1</td>\n",
       "      <td>0</td>\n",
       "    </tr>\n",
       "    <tr>\n",
       "      <td>...</td>\n",
       "      <td>...</td>\n",
       "      <td>...</td>\n",
       "      <td>...</td>\n",
       "      <td>...</td>\n",
       "    </tr>\n",
       "    <tr>\n",
       "      <td>160245</td>\n",
       "      <td>Carter\\'s Child of Mine Baby\\'s First Memory B...</td>\n",
       "      <td>I bought this for my second child and love the...</td>\n",
       "      <td>5</td>\n",
       "      <td>1</td>\n",
       "    </tr>\n",
       "    <tr>\n",
       "      <td>139776</td>\n",
       "      <td>Carter\\'s Just One You Baby\\'s Jungle Dots Fir...</td>\n",
       "      <td>This book has tons of stuff (family tree, a sp...</td>\n",
       "      <td>5</td>\n",
       "      <td>1</td>\n",
       "    </tr>\n",
       "    <tr>\n",
       "      <td>139777</td>\n",
       "      <td>Carter\\'s Just One You Baby\\'s Jungle Dots Fir...</td>\n",
       "      <td>Ordered 2 of these books for my boys, they are...</td>\n",
       "      <td>5</td>\n",
       "      <td>1</td>\n",
       "    </tr>\n",
       "    <tr>\n",
       "      <td>160248</td>\n",
       "      <td>Back Buddy Support Pillow</td>\n",
       "      <td>The manufacturer is missing a bet by advertisi...</td>\n",
       "      <td>5</td>\n",
       "      <td>1</td>\n",
       "    </tr>\n",
       "    <tr>\n",
       "      <td>183530</td>\n",
       "      <td>Best 2 Pack Baby Car Shade for Kids - Window S...</td>\n",
       "      <td>I love this product very mush . I have bought ...</td>\n",
       "      <td>5</td>\n",
       "      <td>1</td>\n",
       "    </tr>\n",
       "  </tbody>\n",
       "</table>\n",
       "<p>182384 rows × 4 columns</p>\n",
       "</div>"
      ],
      "text/plain": [
       "                                                     name  \\\n",
       "29756                 Mommy\\'s Helper Toilet Seat Lid-Lok   \n",
       "2175                     Philips Avent 3 Pack 9oz Bottles   \n",
       "114296  Digital Connect Digital Baby Monitor - 1 Paren...   \n",
       "117735  Tommee Tippee Closer to Nature Newborn Starter...   \n",
       "165396  Samsung SEW-3036WN Wireless Video Baby Monitor...   \n",
       "...                                                   ...   \n",
       "160245  Carter\\'s Child of Mine Baby\\'s First Memory B...   \n",
       "139776  Carter\\'s Just One You Baby\\'s Jungle Dots Fir...   \n",
       "139777  Carter\\'s Just One You Baby\\'s Jungle Dots Fir...   \n",
       "160248                          Back Buddy Support Pillow   \n",
       "183530  Best 2 Pack Baby Car Shade for Kids - Window S...   \n",
       "\n",
       "                                                   review  rating  sentiment  \n",
       "29756   Don\\'t waste your money. My ten month old had ...       1          0  \n",
       "2175    My baby tried these bottles and you could hear...       1          0  \n",
       "114296  This is by far the worst baby monitor we have ...       1          0  \n",
       "117735  We have 6 month old twins and have used Tommee...       1          0  \n",
       "165396  Receiver wouldn\\'t work 10 feet from camera in...       1          0  \n",
       "...                                                   ...     ...        ...  \n",
       "160245  I bought this for my second child and love the...       5          1  \n",
       "139776  This book has tons of stuff (family tree, a sp...       5          1  \n",
       "139777  Ordered 2 of these books for my boys, they are...       5          1  \n",
       "160248  The manufacturer is missing a bet by advertisi...       5          1  \n",
       "183530  I love this product very mush . I have bought ...       5          1  \n",
       "\n",
       "[182384 rows x 4 columns]"
      ]
     },
     "execution_count": 10,
     "metadata": {},
     "output_type": "execute_result"
    }
   ],
   "source": [
    "df[\"sentiment\"] = df[\"rating\"]>=4 #It primts 1 if the rating is greater than or equal to 4 and prints 0 othervise.\n",
    "df[\"sentiment\"] = df[\"sentiment\"].astype(int)\n",
    "y = df[\"sentiment\"]\n",
    "\n",
    "df"
   ]
  },
  {
   "cell_type": "markdown",
   "metadata": {
    "colab_type": "text",
    "id": "Ckbt23jbcrsz"
   },
   "source": [
    "Ploting the sentiment in pie chart"
   ]
  },
  {
   "cell_type": "code",
   "execution_count": 11,
   "metadata": {
    "colab": {
     "base_uri": "https://localhost:8080/",
     "height": 301
    },
    "colab_type": "code",
    "id": "L2e__U_Nc3B-",
    "outputId": "38a028e4-a67e-470f-ef8d-5b1a5d663fee"
   },
   "outputs": [
    {
     "name": "stdout",
     "output_type": "stream",
     "text": [
      "1    139318\n",
      "0     43066\n",
      "Name: sentiment, dtype: int64\n"
     ]
    },
    {
     "data": {
      "image/png": "[encoded data removed]",
      "text/plain": [
       "<Figure size 432x288 with 1 Axes>"
      ]
     },
     "metadata": {},
     "output_type": "display_data"
    }
   ],
   "source": [
    "from matplotlib import pyplot as plt\n",
    "\n",
    "count_Class = pd.value_counts(df[\"sentiment\"], sort = True)\n",
    "print(count_Class)\n",
    "# Data to Plot\n",
    "labels = 'Positive', 'Negative'\n",
    "sizes = [count_Class[1], count_Class[0]]\n",
    "colors =  ['lightskyblue', 'red', ]\n",
    "explode = (0.1,0.1)\n",
    "\n",
    "# Plot\n",
    "plt.pie(sizes, explode = explode, labels = labels, colors = colors,\n",
    "        autopct = '%1.1f%%', shadow = True, startangle = 90)\n",
    "plt.axis('equal')\n",
    "plt.show()"
   ]
  },
  {
   "cell_type": "markdown",
   "metadata": {
    "colab_type": "text",
    "id": "r56Y4YSE5BCo"
   },
   "source": [
    "CountVectorizer"
   ]
  },
  {
   "cell_type": "code",
   "execution_count": 12,
   "metadata": {
    "colab": {},
    "colab_type": "code",
    "id": "H4a3paHZ46IK"
   },
   "outputs": [],
   "source": [
    "from sklearn.feature_extraction.text import CountVectorizer\n",
    "import nltk\n",
    "from nltk.tokenize import word_tokenize\n",
    "from sklearn.model_selection import train_test_split\n",
    "from sklearn.metrics import roc_auc_score\n",
    "a = df['review'].astype(\"str\")\n",
    "cv = CountVectorizer(stop_words='english',min_df=3)\n",
    "cv = cv.fit_transform(a)\n",
    "\n"
   ]
  },
  {
   "cell_type": "markdown",
   "metadata": {
    "colab_type": "text",
    "id": "1xezynqjVQSl"
   },
   "source": [
    "Using Cross Validation to find the algorithm that gives the best performance"
   ]
  },
  {
   "cell_type": "code",
   "execution_count": 15,
   "metadata": {
    "colab": {
     "base_uri": "https://localhost:8080/",
     "height": 72
    },
    "colab_type": "code",
    "id": "fDYAlvV9VQwl",
    "outputId": "40e061fb-6357-4ec9-a38a-5d49522a3e98"
   },
   "outputs": [
    {
     "name": "stdout",
     "output_type": "stream",
     "text": [
      "                    model     score\n",
      "0                 xgboost  0.798211\n",
      "1  RandomForestClassifier  0.805213\n",
      "2  DecisionTreeClassifier  0.769942\n",
      "3      LogisticRegression  0.839087\n"
     ]
    }
   ],
   "source": [
    "import xgboost as xgb\n",
    "from sklearn.ensemble import forest \n",
    "from sklearn import tree\n",
    "from sklearn import linear_model\n",
    "from sklearn.model_selection import cross_val_score\n",
    "import statistics as stats\n",
    "import warnings\n",
    "warnings.filterwarnings(\"ignore\")\n",
    "\n",
    "xg = xgb.XGBClassifier()\n",
    "fo =  forest.RandomForestClassifier()\n",
    "tr = tree.DecisionTreeClassifier()\n",
    "lo = linear_model.LogisticRegression()\n",
    "\n",
    "xgb_score = cross_val_score(xg,cv,y)\n",
    "ran_score = cross_val_score(fo,cv,y)\n",
    "dtree_score = cross_val_score(tr,cv,y)\n",
    "log_score = cross_val_score(lo,cv,y)\n",
    "\n",
    "df_score = pd.DataFrame({\"model\":[\"xgboost\",\"RandomForestClassifier\",\"DecisionTreeClassifier\",\"LogisticRegression\"],\"score\":[stats.mean(xgb_score),stats.mean(ran_score),stats.mean(dtree_score),stats.mean(log_score)]})\n",
    "print(df_score)"
   ]
  },
  {
   "cell_type": "code",
   "execution_count": 16,
   "metadata": {
    "colab": {},
    "colab_type": "code",
    "id": "Vw-Z0MOKVC7g"
   },
   "outputs": [],
   "source": [
    "#Spltting the dataframe into training and testing sample of 80% and 20% respectively.\n",
    "x_train,x_test,y_train,y_test = train_test_split(cv,y,test_size=0.20,random_state=0)"
   ]
  },
  {
   "cell_type": "markdown",
   "metadata": {
    "colab_type": "text",
    "id": "1XzCRIzL5jx4"
   },
   "source": [
    "# Hyperparameter Tuning Using Using BayesSearchCV\n",
    "Finding the hyperparameter values of a learning algorithm that produces the best result\n"
   ]
  },
  {
   "cell_type": "code",
   "execution_count": 17,
   "metadata": {
    "colab": {},
    "colab_type": "code",
    "id": "hTwiL3N15ivD"
   },
   "outputs": [],
   "source": [
    "\n",
    "# #!pip install scikit-optimize\n",
    "# import numpy as np\n",
    "# from skopt import BayesSearchCV\n",
    "# from sklearn import linear_model\n",
    "# from sklearn.model_selection import GridSearchCV\n",
    "# model = linear_model.LogisticRegression()\n",
    "# param =  {'penalty' : ['l1', 'l2', 'elasticnet', 'none'],'C': [1.0,10],'solver' : ['lbfgs','newton-cg','liblinear','sag','saga'],'max_iter' : [100, 1000,5000] }\n",
    "# Bayes_search = BayesSearchCV(model,param,scoring=\"accuracy\")\n",
    "# Bayes_search = Bayes_search.fit(x_train,y_train)\n",
    "# print(Bayes_search.best_params_)\n",
    "\n"
   ]
  },
  {
   "cell_type": "code",
   "execution_count": 18,
   "metadata": {
    "colab": {},
    "colab_type": "code",
    "id": "WRDuSplIbu-G"
   },
   "outputs": [
    {
     "name": "stdout",
     "output_type": "stream",
     "text": [
      "        sentiment  predicted_sentiment\n",
      "107508          1                    1\n",
      "170769          1                    1\n",
      "52370           1                    1\n",
      "9335            0                    0\n",
      "140974          1                    1\n",
      "...           ...                  ...\n",
      "101651          1                    1\n",
      "67363           1                    1\n",
      "118539          0                    1\n",
      "177351          1                    1\n",
      "117278          1                    1\n",
      "\n",
      "[36477 rows x 2 columns]\n"
     ]
    }
   ],
   "source": [
    "#training the model\n",
    "from sklearn import linear_model\n",
    "model = linear_model.LogisticRegression(multi_class=\"ovr\",C=1.0)\n",
    "model = model.fit(x_train,y_train)\n",
    "pred = model.predict(x_test)\n",
    "score = roc_auc_score(y_test,pred)\n",
    "#testing the model\n",
    "#user_review = [\"Type your review here\"]\n",
    "#user_sen = cv.transform(user_review)\n",
    "#pred = model.predict(user_sen)\n",
    "score_df = pd.DataFrame({\"sentiment\":y_test,\"predicted_sentiment\":pred})\n",
    "print(score_df)\n",
    "#score #0.8009174323031545"
   ]
  },
  {
   "cell_type": "code",
   "execution_count": 0,
   "metadata": {
    "colab": {},
    "colab_type": "code",
    "id": "awkdm0QDh3Nb"
   },
   "outputs": [],
   "source": []
  },
  {
   "cell_type": "code",
   "execution_count": 0,
   "metadata": {
    "colab": {},
    "colab_type": "code",
    "id": "iRGJMWuel0lR"
   },
   "outputs": [],
   "source": []
  }
 ],
 "metadata": {
  "accelerator": "GPU",
  "colab": {
   "collapsed_sections": [],
   "name": "product_review (1).ipynb",
   "provenance": [],
   "toc_visible": true
  },
  "kernelspec": {
   "display_name": "Python 3",
   "language": "python",
   "name": "python3"
  },
  "language_info": {
   "codemirror_mode": {
    "name": "ipython",
    "version": 3
   },
   "file_extension": ".py",
   "mimetype": "text/x-python",
   "name": "python",
   "nbconvert_exporter": "python",
   "pygments_lexer": "ipython3",
   "version": "3.7.4"
  }
 },
 "nbformat": 4,
 "nbformat_minor": 1
}
