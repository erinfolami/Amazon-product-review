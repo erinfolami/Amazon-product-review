{
  "nbformat": 4,
  "nbformat_minor": 0,
  "metadata": {
    "colab": {
      "name": "product_review (1).ipynb",
      "provenance": [],
      "collapsed_sections": [],
      "toc_visible": true
    },
    "kernelspec": {
      "name": "python3",
      "display_name": "Python 3"
    },
    "accelerator": "GPU"
  },
  "cells": [
    {
      "cell_type": "markdown",
      "metadata": {
        "id": "ojGAvN4Zj9RV",
        "colab_type": "text"
      },
      "source": [
        "# Reading product review data\n"
      ]
    },
    {
      "cell_type": "code",
      "metadata": {
        "id": "hHIwQekzkSw3",
        "colab_type": "code",
        "outputId": "6873efd1-f713-4ad9-9ab3-aa4d22108f5a",
        "colab": {
          "base_uri": "https://localhost:8080/",
          "height": 125
        }
      },
      "source": [
        "from google.colab import drive\n",
        "drive.mount('/content/drive')\n",
        "\n",
        "import pandas as pd"
      ],
      "execution_count": 1,
      "outputs": [
        {
          "output_type": "stream",
          "text": [
            "Go to this URL in a browser: https://accounts.google.com/o/oauth2/auth?client_id=947318989803-6bn6qk8qdgf4n4g3pfee6491hc0brc4i.apps.googleusercontent.com&redirect_uri=urn%3aietf%3awg%3aoauth%3a2.0%3aoob&response_type=code&scope=email%20https%3a%2f%2fwww.googleapis.com%2fauth%2fdocs.test%20https%3a%2f%2fwww.googleapis.com%2fauth%2fdrive%20https%3a%2f%2fwww.googleapis.com%2fauth%2fdrive.photos.readonly%20https%3a%2f%2fwww.googleapis.com%2fauth%2fpeopleapi.readonly\n",
            "\n",
            "Enter your authorization code:\n",
            "··········\n",
            "Mounted at /content/drive\n"
          ],
          "name": "stdout"
        }
      ]
    },
    {
      "cell_type": "code",
      "metadata": {
        "id": "WHkPqxckkWVU",
        "colab_type": "code",
        "colab": {}
      },
      "source": [
        "#df_ mount = (\"amazon_baby.csv\")\n",
        "df = pd.read_csv(\"/content/drive/My Drive/amazon_baby.csv\")\n",
        "\n"
      ],
      "execution_count": 0,
      "outputs": []
    },
    {
      "cell_type": "code",
      "metadata": {
        "id": "09Tmdcy9OlJo",
        "colab_type": "code",
        "colab": {}
      },
      "source": [
        "#droping missing values\n",
        "df = df.dropna(axis=0)\n"
      ],
      "execution_count": 0,
      "outputs": []
    },
    {
      "cell_type": "markdown",
      "metadata": {
        "id": "Ueh_MHiroQ-Q",
        "colab_type": "text"
      },
      "source": [
        "Most frequent items"
      ]
    },
    {
      "cell_type": "code",
      "metadata": {
        "id": "b2agDiIJkk3W",
        "colab_type": "code",
        "outputId": "35d98477-2e8e-4b0a-fbef-f2ae7215ac0f",
        "colab": {
          "base_uri": "https://localhost:8080/",
          "height": 230
        }
      },
      "source": [
        "frq = df[\"name\"].value_counts()\n",
        "print(frq)"
      ],
      "execution_count": 4,
      "outputs": [
        {
          "output_type": "stream",
          "text": [
            "Vulli Sophie the Giraffe Teether                                                779\n",
            "Simple Wishes Hands-Free Breastpump Bra, Pink, XS-L                             560\n",
            "Infant Optics DXR-5 2.4 GHz Digital Video Baby Monitor with Night Vision        558\n",
            "Baby Einstein Take Along Tunes                                                  545\n",
            "Cloud b Twilight Constellation Night Light, Turtle                              517\n",
            "                                                                               ... \n",
            "Moby Wrap Original 100% Cotton Baby Carrier, Indigo                               1\n",
            "Summer Infant 77510 Snuzzler - Ivory Cotton Terry                                 1\n",
            "Carter\\'s Boys 4-piece Cotton Knit Pajama Sets - Rescue Vehicles (12 Months)      1\n",
            "Tot Bots Easy Fit One-Piece Diaper 8-35 lbs (Three Little Piggies)                1\n",
            "Paciplay Taffy Teethable Pacifier Holder, Blue                                    1\n",
            "Name: name, Length: 32315, dtype: int64\n"
          ],
          "name": "stdout"
        }
      ]
    },
    {
      "cell_type": "markdown",
      "metadata": {
        "id": "ImfdQ7swpwqJ",
        "colab_type": "text"
      },
      "source": [
        "Exploring Vullie Sophie(item)"
      ]
    },
    {
      "cell_type": "code",
      "metadata": {
        "id": "TzI8tQkIptGv",
        "colab_type": "code",
        "outputId": "bbb14557-6f97-4ccc-825d-b01b9901c7f1",
        "colab": {
          "base_uri": "https://localhost:8080/",
          "height": 34
        }
      },
      "source": [
        "giraffe_review = df[df[\"name\"]==\"Vulli Sophie the Giraffe Teether\"]\n",
        "len(giraffe_review)# 785 people reviewd the giraffe product\n"
      ],
      "execution_count": 5,
      "outputs": [
        {
          "output_type": "execute_result",
          "data": {
            "text/plain": [
              "779"
            ]
          },
          "metadata": {
            "tags": []
          },
          "execution_count": 5
        }
      ]
    },
    {
      "cell_type": "markdown",
      "metadata": {
        "id": "hnCkYUZA1haL",
        "colab_type": "text"
      },
      "source": [
        "Exploring Vullie Sophie(item) Rating\n"
      ]
    },
    {
      "cell_type": "code",
      "metadata": {
        "id": "jjMRiCQV1f0q",
        "colab_type": "code",
        "outputId": "ba002cf3-1c05-447e-c5fa-27ddf9db1d90",
        "colab": {
          "base_uri": "https://localhost:8080/",
          "height": 123
        }
      },
      "source": [
        "print(giraffe_review[\"rating\"].value_counts())"
      ],
      "execution_count": 6,
      "outputs": [
        {
          "output_type": "stream",
          "text": [
            "5    531\n",
            "4     93\n",
            "3     62\n",
            "1     56\n",
            "2     37\n",
            "Name: rating, dtype: int64\n"
          ],
          "name": "stdout"
        }
      ]
    },
    {
      "cell_type": "markdown",
      "metadata": {
        "id": "0LR2I89fFlqC",
        "colab_type": "text"
      },
      "source": [
        "Exploring all users ratings"
      ]
    },
    {
      "cell_type": "code",
      "metadata": {
        "id": "-MYZRuAPFr2z",
        "colab_type": "code",
        "outputId": "d4415822-697c-483b-ccf7-327fe5bcfdc3",
        "colab": {
          "base_uri": "https://localhost:8080/",
          "height": 34
        }
      },
      "source": [
        "rating = df[\"rating\"].value_counts().unique()\n",
        "print(rating)\n"
      ],
      "execution_count": 7,
      "outputs": [
        {
          "output_type": "stream",
          "text": [
            "[106265  33053  16705  15100  11261]\n"
          ],
          "name": "stdout"
        }
      ]
    },
    {
      "cell_type": "markdown",
      "metadata": {
        "id": "_JN9OavaO9tn",
        "colab_type": "text"
      },
      "source": [
        "Creating a plot for all reviews"
      ]
    },
    {
      "cell_type": "code",
      "metadata": {
        "id": "aUPIwr8uPC4C",
        "colab_type": "code",
        "outputId": "44108511-00b2-4ae7-cf60-37b1f59adef7",
        "colab": {
          "base_uri": "https://localhost:8080/",
          "height": 300
        }
      },
      "source": [
        "#Creating a plot for all reviews\n",
        "from matplotlib import pyplot  as plt\n",
        "plt.style.use('ggplot')\n",
        "df = df.sort_values([\"rating\"])\n",
        "rat_unique = df[\"rating\"].unique()\n",
        "rat_unique = rat_unique[::-1]\n",
        "height = rating\n",
        "plt.bar(rat_unique,height)\n",
        "plt.xlabel(\"Ratings\")\n",
        "\n"
      ],
      "execution_count": 8,
      "outputs": [
        {
          "output_type": "execute_result",
          "data": {
            "text/plain": [
              "Text(0.5, 0, 'Ratings')"
            ]
          },
          "metadata": {
            "tags": []
          },
          "execution_count": 8
        },
        {
          "output_type": "display_data",
          "data": {
            "image/png": "[encoded data removed]",
            "text/plain": [
              "<Figure size 432x288 with 1 Axes>"
            ]
          },
          "metadata": {
            "tags": []
          }
        }
      ]
    },
    {
      "cell_type": "markdown",
      "metadata": {
        "id": "wEtmhUyFDsGC",
        "colab_type": "text"
      },
      "source": [
        "Defining Positive/Negative Ratings\n",
        "\n",
        "\n",
        "\n"
      ]
    },
    {
      "cell_type": "code",
      "metadata": {
        "id": "pDa8IKrZ-DtP",
        "colab_type": "code",
        "outputId": "c1d63946-a981-463e-9cae-a5a39489c93f",
        "colab": {
          "base_uri": "https://localhost:8080/",
          "height": 406
        }
      },
      "source": [
        "df[\"sentiment\"] = df[\"rating\"]>=4 #It primts 1 if the rating is greater than or equal to 4 and prints 0 othervise.\n",
        "df[\"sentiment\"] = df[\"sentiment\"].astype(int)\n",
        "y = df[\"sentiment\"]\n",
        "\n",
        "df"
      ],
      "execution_count": 9,
      "outputs": [
        {
          "output_type": "execute_result",
          "data": {
            "text/html": [
              "<div>\n",
              "<style scoped>\n",
              "    .dataframe tbody tr th:only-of-type {\n",
              "        vertical-align: middle;\n",
              "    }\n",
              "\n",
              "    .dataframe tbody tr th {\n",
              "        vertical-align: top;\n",
              "    }\n",
              "\n",
              "    .dataframe thead th {\n",
              "        text-align: right;\n",
              "    }\n",
              "</style>\n",
              "<table border=\"1\" class=\"dataframe\">\n",
              "  <thead>\n",
              "    <tr style=\"text-align: right;\">\n",
              "      <th></th>\n",
              "      <th>name</th>\n",
              "      <th>review</th>\n",
              "      <th>rating</th>\n",
              "      <th>sentiment</th>\n",
              "    </tr>\n",
              "  </thead>\n",
              "  <tbody>\n",
              "    <tr>\n",
              "      <th>29756</th>\n",
              "      <td>Mommy\\'s Helper Toilet Seat Lid-Lok</td>\n",
              "      <td>Don\\'t waste your money. My ten month old had ...</td>\n",
              "      <td>1</td>\n",
              "      <td>0</td>\n",
              "    </tr>\n",
              "    <tr>\n",
              "      <th>174895</th>\n",
              "      <td>Summer Infant Baby Touch Boost Digital Color V...</td>\n",
              "      <td>My son is 9 months old and we are currently wa...</td>\n",
              "      <td>1</td>\n",
              "      <td>0</td>\n",
              "    </tr>\n",
              "    <tr>\n",
              "      <th>174897</th>\n",
              "      <td>KidCo Peapod - Cranberry</td>\n",
              "      <td>This product was recalled and redesigned due t...</td>\n",
              "      <td>1</td>\n",
              "      <td>0</td>\n",
              "    </tr>\n",
              "    <tr>\n",
              "      <th>70872</th>\n",
              "      <td>Skip Hop Swipe Baby Wipes Case</td>\n",
              "      <td>The wipes case doesn\\'t shut properly, so the ...</td>\n",
              "      <td>1</td>\n",
              "      <td>0</td>\n",
              "    </tr>\n",
              "    <tr>\n",
              "      <th>156309</th>\n",
              "      <td>RayShade&amp;reg; UV Protective Stroller Shade Imp...</td>\n",
              "      <td>The concept is great however this shade extens...</td>\n",
              "      <td>1</td>\n",
              "      <td>0</td>\n",
              "    </tr>\n",
              "    <tr>\n",
              "      <th>...</th>\n",
              "      <td>...</td>\n",
              "      <td>...</td>\n",
              "      <td>...</td>\n",
              "      <td>...</td>\n",
              "    </tr>\n",
              "    <tr>\n",
              "      <th>78819</th>\n",
              "      <td>Tike Tech Double City X3 Swivel Stroller, Paci...</td>\n",
              "      <td>We bought this twin stroller for our grandchil...</td>\n",
              "      <td>5</td>\n",
              "      <td>1</td>\n",
              "    </tr>\n",
              "    <tr>\n",
              "      <th>78813</th>\n",
              "      <td>Tike Tech Double City X3 Swivel Stroller, Paci...</td>\n",
              "      <td>I was reluctant to buy this based on some of t...</td>\n",
              "      <td>5</td>\n",
              "      <td>1</td>\n",
              "    </tr>\n",
              "    <tr>\n",
              "      <th>78809</th>\n",
              "      <td>eebee\\'s adventures Hand Puppet Plush Toy</td>\n",
              "      <td>Eebee was Christmas gift for my one-year-old, ...</td>\n",
              "      <td>5</td>\n",
              "      <td>1</td>\n",
              "    </tr>\n",
              "    <tr>\n",
              "      <th>78801</th>\n",
              "      <td>eebee\\'s adventures If The Shape Fits Stacking...</td>\n",
              "      <td>My daughter is a big Eebee fan and i was looki...</td>\n",
              "      <td>5</td>\n",
              "      <td>1</td>\n",
              "    </tr>\n",
              "    <tr>\n",
              "      <th>183530</th>\n",
              "      <td>Best 2 Pack Baby Car Shade for Kids - Window S...</td>\n",
              "      <td>I love this product very mush . I have bought ...</td>\n",
              "      <td>5</td>\n",
              "      <td>1</td>\n",
              "    </tr>\n",
              "  </tbody>\n",
              "</table>\n",
              "<p>182384 rows × 4 columns</p>\n",
              "</div>"
            ],
            "text/plain": [
              "                                                     name  ... sentiment\n",
              "29756                 Mommy\\'s Helper Toilet Seat Lid-Lok  ...         0\n",
              "174895  Summer Infant Baby Touch Boost Digital Color V...  ...         0\n",
              "174897                           KidCo Peapod - Cranberry  ...         0\n",
              "70872                      Skip Hop Swipe Baby Wipes Case  ...         0\n",
              "156309  RayShade&reg; UV Protective Stroller Shade Imp...  ...         0\n",
              "...                                                   ...  ...       ...\n",
              "78819   Tike Tech Double City X3 Swivel Stroller, Paci...  ...         1\n",
              "78813   Tike Tech Double City X3 Swivel Stroller, Paci...  ...         1\n",
              "78809           eebee\\'s adventures Hand Puppet Plush Toy  ...         1\n",
              "78801   eebee\\'s adventures If The Shape Fits Stacking...  ...         1\n",
              "183530  Best 2 Pack Baby Car Shade for Kids - Window S...  ...         1\n",
              "\n",
              "[182384 rows x 4 columns]"
            ]
          },
          "metadata": {
            "tags": []
          },
          "execution_count": 9
        }
      ]
    },
    {
      "cell_type": "markdown",
      "metadata": {
        "id": "Ckbt23jbcrsz",
        "colab_type": "text"
      },
      "source": [
        "Ploting the sentiment in pie chart"
      ]
    },
    {
      "cell_type": "code",
      "metadata": {
        "id": "L2e__U_Nc3B-",
        "colab_type": "code",
        "outputId": "38a028e4-a67e-470f-ef8d-5b1a5d663fee",
        "colab": {
          "base_uri": "https://localhost:8080/",
          "height": 301
        }
      },
      "source": [
        "from matplotlib import pyplot as plt\n",
        "\n",
        "count_Class = pd.value_counts(df[\"sentiment\"], sort = True)\n",
        "print(count_Class)\n",
        "# Data to Plot\n",
        "labels = 'Positive', 'Negative'\n",
        "sizes = [count_Class[1], count_Class[0]]\n",
        "colors =  ['lightskyblue', 'red', ]\n",
        "explode = (0.1,0.1)\n",
        "\n",
        "# Plot\n",
        "plt.pie(sizes, explode = explode, labels = labels, colors = colors,\n",
        "        autopct = '%1.1f%%', shadow = True, startangle = 90)\n",
        "plt.axis('equal')\n",
        "plt.show()"
      ],
      "execution_count": 10,
      "outputs": [
        {
          "output_type": "stream",
          "text": [
            "1    139318\n",
            "0     43066\n",
            "Name: sentiment, dtype: int64\n"
          ],
          "name": "stdout"
        },
        {
          "output_type": "display_data",
          "data": {
            "image/png": "[encoded data removed]",
            "text/plain": [
              "<Figure size 432x288 with 1 Axes>"
            ]
          },
          "metadata": {
            "tags": []
          }
        }
      ]
    },
    {
      "cell_type": "markdown",
      "metadata": {
        "id": "r56Y4YSE5BCo",
        "colab_type": "text"
      },
      "source": [
        "CountVectorizer"
      ]
    },
    {
      "cell_type": "code",
      "metadata": {
        "id": "H4a3paHZ46IK",
        "colab_type": "code",
        "colab": {}
      },
      "source": [
        "from sklearn.feature_extraction.text import CountVectorizer\n",
        "import nltk\n",
        "from nltk.tokenize import word_tokenize\n",
        "from sklearn.model_selection import train_test_split\n",
        "from sklearn.metrics import roc_auc_score\n",
        "a = df['review'].astype(\"str\")\n",
        "cv = CountVectorizer(stop_words='english',min_df=3)\n",
        "cv = cv.fit_transform(a)\n",
        "\n"
      ],
      "execution_count": 0,
      "outputs": []
    },
    {
      "cell_type": "markdown",
      "metadata": {
        "id": "1xezynqjVQSl",
        "colab_type": "text"
      },
      "source": [
        "Using Cross Validation to find the algorithm that gives the best performance"
      ]
    },
    {
      "cell_type": "code",
      "metadata": {
        "id": "fDYAlvV9VQwl",
        "colab_type": "code",
        "colab": {
          "base_uri": "https://localhost:8080/",
          "height": 72
        },
        "outputId": "40e061fb-6357-4ec9-a38a-5d49522a3e98"
      },
      "source": [
        "import xgboost as xgb\n",
        "from sklearn.ensemble import forest \n",
        "from sklearn import tree\n",
        "from sklearn import linear_model\n",
        "from sklearn.model_selection import cross_val_score\n",
        "import statistics as stats\n",
        "\n",
        "xg = xgb.XGBClassifier()\n",
        "fo =  forest.RandomForestClassifier()\n",
        "tr = tree.DecisionTreeClassifier()\n",
        "lo = linear_model.LogisticRegression()\n",
        "\n",
        "xgb_score = cross_val_score(xg,cv,y)\n",
        "ran_score = cross_val_score(fo,cv,y)\n",
        "dtree_score = cross_val_score(tr,cv,y)\n",
        "log_score = cross_val_score(lo,cv,y)\n",
        "\n",
        "df_score = pd.DataFrame({\"model\":[\"xgboost\",\"RandomForestClassifier\",\"DecisionTreeClassifier\",\"LogisticRegression\"],\"score\":[stats.mean(xgb_score),stats.mean(ran_score),stats.mean(dtree_score),stats.mean(log_score)]})\n",
        "print(df_score)"
      ],
      "execution_count": 0,
      "outputs": [
        {
          "output_type": "stream",
          "text": [
            "/usr/local/lib/python3.6/dist-packages/sklearn/utils/deprecation.py:144: FutureWarning: The sklearn.ensemble.forest module is  deprecated in version 0.22 and will be removed in version 0.24. The corresponding classes / functions should instead be imported from sklearn.ensemble. Anything that cannot be imported from sklearn.ensemble is now part of the private API.\n",
            "  warnings.warn(message, FutureWarning)\n"
          ],
          "name": "stderr"
        }
      ]
    },
    {
      "cell_type": "code",
      "metadata": {
        "id": "Vw-Z0MOKVC7g",
        "colab_type": "code",
        "colab": {}
      },
      "source": [
        "#Spltting the dataframe into training and testing sample of 80% and 20% respectively.\n",
        "x_train,x_test,y_train,y_test = train_test_split(cv,y,test_size=0.20,random_state=0)"
      ],
      "execution_count": 0,
      "outputs": []
    },
    {
      "cell_type": "markdown",
      "metadata": {
        "id": "1XzCRIzL5jx4",
        "colab_type": "text"
      },
      "source": [
        "# Hyperparameter Tuning Using Using BayesSearchCV\n",
        "Finding the hyperparameter values of a learning algorithm that produces the best result\n"
      ]
    },
    {
      "cell_type": "code",
      "metadata": {
        "id": "hTwiL3N15ivD",
        "colab_type": "code",
        "colab": {}
      },
      "source": [
        "\n",
        "# #!pip install scikit-optimize\n",
        "# import numpy as np\n",
        "# from skopt import BayesSearchCV\n",
        "# from sklearn import linear_model\n",
        "# from sklearn.model_selection import GridSearchCV\n",
        "# model = linear_model.LogisticRegression()\n",
        "# param =  {'penalty' : ['l1', 'l2', 'elasticnet', 'none'],'C': [1.0,10],'solver' : ['lbfgs','newton-cg','liblinear','sag','saga'],'max_iter' : [100, 1000,5000] }\n",
        "# Bayes_search = BayesSearchCV(model,param,scoring=\"accuracy\")\n",
        "# Bayes_search = Bayes_search.fit(x_train,y_train)\n",
        "# print(Bayes_search.best_params_)\n",
        "\n"
      ],
      "execution_count": 0,
      "outputs": []
    },
    {
      "cell_type": "code",
      "metadata": {
        "id": "WRDuSplIbu-G",
        "colab_type": "code",
        "colab": {}
      },
      "source": [
        "#training the model\n",
        "from sklearn import linear_model\n",
        "model = linear_model.LogisticRegression(multi_class=\"ovr\",C=1.0)\n",
        "model = model.fit(x_train,y_train)\n",
        "pred = model.predict(x_test)\n",
        "score = roc_auc_score(y_test,pred)\n",
        "#testing the model\n",
        "#user_review = [\"Type your review here\"]\n",
        "#user_sen = cv.transform(user_review)\n",
        "#pred = model.predict(user_sen)\n",
        "score_df = pd.DataFrame({\"sentiment\":y_test,\"predicted_sentiment\":pred})\n",
        "print(score_df)\n",
        "#score #0.8009174323031545"
      ],
      "execution_count": 0,
      "outputs": []
    },
    {
      "cell_type": "code",
      "metadata": {
        "id": "awkdm0QDh3Nb",
        "colab_type": "code",
        "colab": {}
      },
      "source": [
        ""
      ],
      "execution_count": 0,
      "outputs": []
    },
    {
      "cell_type": "code",
      "metadata": {
        "id": "iRGJMWuel0lR",
        "colab_type": "code",
        "colab": {}
      },
      "source": [
        ""
      ],
      "execution_count": 0,
      "outputs": []
    }
  ]
}